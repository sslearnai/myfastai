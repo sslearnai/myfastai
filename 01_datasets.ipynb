{
 "cells": [
  {
   "cell_type": "code",
   "execution_count": 1,
   "id": "d296ed05-9655-4855-9690-82a22ec25991",
   "metadata": {},
   "outputs": [],
   "source": [
    "#| default_exp miniai"
   ]
  },
  {
   "cell_type": "code",
   "execution_count": 2,
   "id": "02c4ba76-cd54-4a60-ab05-db1c7d95c581",
   "metadata": {},
   "outputs": [],
   "source": [
    "#| export\n",
    "MNIST_URL='https://github.com/mnielsen/neural-networks-and-deep-learning/blob/master/data/mnist.pkl.gz?raw=true'\n"
   ]
  },
  {
   "cell_type": "code",
   "execution_count": 3,
   "id": "e99a8c51-0ddd-40b0-a584-d12e4d2685b1",
   "metadata": {},
   "outputs": [],
   "source": [
    "from pathlib import Path\n",
    "from urllib.request import urlretrieve"
   ]
  },
  {
   "cell_type": "code",
   "execution_count": 4,
   "id": "7521b730-cd64-4db6-bb89-3c26cc25c482",
   "metadata": {},
   "outputs": [],
   "source": [
    "path=Path('data')\n",
    "path.mkdir(exist_ok=True)\n"
   ]
  },
  {
   "cell_type": "code",
   "execution_count": 5,
   "id": "e45537a4-4ef9-4150-a126-49be7bfb899b",
   "metadata": {},
   "outputs": [],
   "source": [
    "datafile = path/'mnist.pkl.gzip'\n",
    "\n",
    "if not datafile.exists() :\n",
    "    urlretrieve(MNIST_URL,datafile)"
   ]
  },
  {
   "cell_type": "code",
   "execution_count": 6,
   "id": "bf048604-c686-4bc0-bb09-c58f35cf79a3",
   "metadata": {},
   "outputs": [],
   "source": [
    "#|export\n",
    "def download_datafile(URL, path) :\n",
    "    if not path.exists() :\n",
    "        print(f'Downloading from {URL} ...')\n",
    "        urlretrieve(URL,path)\n",
    "        \n",
    "    if datafile.exists() :\n",
    "        print(f'Datafile is available at {path}')\n",
    "    else :\n",
    "        print(f\"Something went wrong. Couldn't download file - {URL} \")\n",
    "    \n",
    "def download_MNIST(path=Path('data/mnist.pkl.gzip')) :\n",
    "    download_datafile(MNIST_URL,path)\n"
   ]
  },
  {
   "cell_type": "code",
   "execution_count": 7,
   "id": "131644a1-4110-41fd-b821-b8484910a050",
   "metadata": {},
   "outputs": [
    {
     "name": "stdout",
     "output_type": "stream",
     "text": [
      "Datafile is available at data/mnist.pkl.gzip\n"
     ]
    }
   ],
   "source": [
    "download_MNIST()"
   ]
  },
  {
   "cell_type": "code",
   "execution_count": 8,
   "id": "828ceb2a-69fb-4c45-812f-681c2423cac9",
   "metadata": {},
   "outputs": [],
   "source": [
    "import nbdev; nbdev.nbdev_export()"
   ]
  }
 ],
 "metadata": {
  "kernelspec": {
   "display_name": "Python 3 (ipykernel)",
   "language": "python",
   "name": "python3"
  },
  "language_info": {
   "codemirror_mode": {
    "name": "ipython",
    "version": 3
   },
   "file_extension": ".py",
   "mimetype": "text/x-python",
   "name": "python",
   "nbconvert_exporter": "python",
   "pygments_lexer": "ipython3",
   "version": "3.11.5"
  }
 },
 "nbformat": 4,
 "nbformat_minor": 5
}
